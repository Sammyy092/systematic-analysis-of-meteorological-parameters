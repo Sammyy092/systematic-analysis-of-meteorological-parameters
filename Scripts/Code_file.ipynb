{
  "nbformat": 4,
  "nbformat_minor": 0,
  "metadata": {
    "accelerator": "GPU",
    "colab": {
      "name": "Project.ipynb",
      "provenance": [],
      "collapsed_sections": []
    },
    "kernelspec": {
      "display_name": "Python 3",
      "name": "python3"
    }
  },
  "cells": [
    {
      "cell_type": "code",
      "metadata": {
        "id": "2VWLwmsbXgnD"
      },
      "source": [
        "# Importing all the necessary libraries\n",
        "import matplotlib.pyplot as plt\n",
        "import pandas as pd\n",
        "import numpy as np\n",
        "from tensorflow import keras\n",
        "from tensorflow.keras import layers\n",
        "from keras.callbacks import EarlyStopping\n",
        "from sklearn.metrics import accuracy_score, precision_score, recall_score, f1_score\n",
        "from sklearn.model_selection import train_test_split\n",
        "from sklearn.metrics import classification_report\n",
        "from sklearn.metrics import confusion_matrix\n",
        "import seaborn as sn\n",
        "from sklearn.svm import SVC\n",
        "from sklearn.tree import DecisionTreeClassifier\n",
        "from sklearn.neighbors import KNeighborsClassifier\n",
        "from sklearn.linear_model import LassoCV"
      ],
      "execution_count": 148,
      "outputs": []
    },
    {
      "cell_type": "markdown",
      "metadata": {
        "id": "keYCaT22LQNI"
      },
      "source": [
        "## Data Loading and Normalization Steps\n",
        "\n",
        "\n",
        "\n"
      ]
    },
    {
      "cell_type": "code",
      "metadata": {
        "id": "bzlyTRmyXl2x"
      },
      "source": [
        "dataset= pd.read_csv('/content/2510364_USA.csv') "
      ],
      "execution_count": null,
      "outputs": []
    },
    {
      "cell_type": "code",
      "metadata": {
        "id": "sEbnC-eTD1Un"
      },
      "source": [
        "dataset.shape"
      ],
      "execution_count": null,
      "outputs": []
    },
    {
      "cell_type": "code",
      "metadata": {
        "id": "fXpQ8IEwYL1g"
      },
      "source": [
        "dataset.isnull().sum() # Checking the null values"
      ],
      "execution_count": null,
      "outputs": []
    },
    {
      "cell_type": "code",
      "metadata": {
        "id": "J0tKys47gJnc"
      },
      "source": [
        " dataset.drop('PGTM', inplace=True, axis=1) # In the case of U.S dataset as the PGTM column in this dataset doesnt contain values"
      ],
      "execution_count": null,
      "outputs": []
    },
    {
      "cell_type": "code",
      "metadata": {
        "id": "QPNY7ZJCNzLm"
      },
      "source": [
        "dataset.dropna(inplace=True)"
      ],
      "execution_count": null,
      "outputs": []
    },
    {
      "cell_type": "code",
      "metadata": {
        "id": "_t0gX5ClYfXP"
      },
      "source": [
        "# Setting up two dataframes, one with columns having PRCP values 0 and other with 1\n",
        "rain= dataset.loc[(dataset['PRCP'] > 0)]\n",
        "no_rain= dataset.loc[(dataset['PRCP'] == 0)]"
      ],
      "execution_count": null,
      "outputs": []
    },
    {
      "cell_type": "code",
      "metadata": {
        "id": "qi1hChHtZkmv"
      },
      "source": [
        "rain['PRCP'] =rain['PRCP']/rain['PRCP'] # Normalizing PRCP values"
      ],
      "execution_count": null,
      "outputs": []
    },
    {
      "cell_type": "code",
      "metadata": {
        "id": "zb2RX15EZnpf"
      },
      "source": [
        "# Merging the dataframes having rainfall and no rainfall values to make it a binary classification problem \n",
        "Merge= [rain, no_rain]\n",
        "normalized_rain = pd.concat(final)\n",
        "dataset=normalized_rain.sample(frac=1).reset_index(drop=True)"
      ],
      "execution_count": null,
      "outputs": []
    },
    {
      "cell_type": "code",
      "metadata": {
        "id": "OxoN-X95Pr97"
      },
      "source": [
        "dataset['PRCP'] = dataset['PRCP'].apply(np.int64)"
      ],
      "execution_count": null,
      "outputs": []
    },
    {
      "cell_type": "code",
      "metadata": {
        "id": "GyssQ5XfZ0_-"
      },
      "source": [
        "features= dataset[[ 'TAVG', 'TMAX', 'TMIN', 'AWND', 'WDF2', 'WDF5','WSF2', 'WSF5']] # Extracting conditional features"
      ],
      "execution_count": 153,
      "outputs": []
    },
    {
      "cell_type": "code",
      "metadata": {
        "id": "Q_Sf54cudCFQ"
      },
      "source": [
        "label= dataset[['PRCP']].values # Extracting the decisional feature"
      ],
      "execution_count": null,
      "outputs": []
    },
    {
      "cell_type": "code",
      "metadata": {
        "id": "LIEXukwidQYG"
      },
      "source": [
        "x_train, x_test, y_train, y_test= train_test_split(features, label, test_size=0.1) # Dividing datset 90% training and 10% testing"
      ],
      "execution_count": null,
      "outputs": []
    },
    {
      "cell_type": "markdown",
      "metadata": {
        "id": "hqMVAb2yc0c9"
      },
      "source": [
        "# Deep Learning Models"
      ]
    },
    {
      "cell_type": "markdown",
      "metadata": {
        "id": "RWrQjhd7gPxB"
      },
      "source": [
        "DNN"
      ]
    },
    {
      "cell_type": "code",
      "metadata": {
        "id": "sFmj-aeAgzyr"
      },
      "source": [
        "model_dnn= tf.keras.Sequential([\n",
        "     tf.keras.layers.Dense(units=300, input_shape=[8], activation=tf.keras.activations.relu),\n",
        "     tf.keras.layers.Dense(units=400, activation=tf.keras.activations.relu),\n",
        "     tf.keras.layers.Dense(units=500, activation=tf.keras.activations.relu),\n",
        "    tf.keras.layers.Dense(units=600, activation=tf.keras.activations.relu),\n",
        "     tf.keras.layers.Dense(units=1, activation=tf.nn.sigmoid)\n",
        "    ]) # Setting up the DNN model"
      ],
      "execution_count": null,
      "outputs": []
    },
    {
      "cell_type": "code",
      "metadata": {
        "id": "5rRbyY3OhBU7"
      },
      "source": [
        "model_dnn.compile(optimizer='adam', loss='binary_crossentropy', metrics=['accuracy']) # Compiling the model"
      ],
      "execution_count": null,
      "outputs": []
    },
    {
      "cell_type": "code",
      "metadata": {
        "id": "XMHXCI8XhR1b"
      },
      "source": [
        "history= model_dnn.fit(x_train, y_train, validation_data=(x_test, y_test), epochs=100) # Running the overall model"
      ],
      "execution_count": null,
      "outputs": []
    },
    {
      "cell_type": "code",
      "metadata": {
        "colab": {
          "base_uri": "https://localhost:8080/"
        },
        "id": "k6_4h0uHiUrq",
        "outputId": "9146fa2f-9832-4ba0-baf2-f7544ecd18dd"
      },
      "source": [
        "model_dnn.evaluate(x_test, y_test)"
      ],
      "execution_count": null,
      "outputs": [
        {
          "output_type": "stream",
          "text": [
            "7/7 [==============================] - 0s 3ms/step - loss: 0.6845 - accuracy: 0.6941\n"
          ],
          "name": "stdout"
        },
        {
          "output_type": "execute_result",
          "data": {
            "text/plain": [
              "[0.6845026016235352, 0.6940639019012451]"
            ]
          },
          "metadata": {
            "tags": []
          },
          "execution_count": 84
        }
      ]
    },
    {
      "cell_type": "code",
      "metadata": {
        "id": "mjj9hPlXTzAD"
      },
      "source": [
        "y_prediction=np.round(model_dnn.predict(x_test)) # Getting the predicted values for test set "
      ],
      "execution_count": null,
      "outputs": []
    },
    {
      "cell_type": "code",
      "metadata": {
        "id": "SOZ3uc0leUhp"
      },
      "source": [
        "classification_report(y_prediction, y_test) # Precision, Recall and F1-Score values"
      ],
      "execution_count": null,
      "outputs": []
    },
    {
      "cell_type": "code",
      "metadata": {
        "id": "8ajtFwFbeqMP"
      },
      "source": [
        "#Function for plotting confusion matrix\n",
        "def plot_corr_matrix(value_pred, actual_value):\n",
        "  matrix= confusion_matrix(value_pred, actual_value)\n",
        "  cm_normalized = matrix.astype('float') / matrix.sum(axis=1)[:, np.newaxis]\n",
        "  plt.figure(figsize = (10,7))\n",
        "  sn.set(font_scale=1.7)#for label size\n",
        "  ax=sn.heatmap(cm_normalized, cmap=\"Blues\", annot=True,annot_kws={\"size\": 16})\n",
        "  ax.set(xlabel=\"Predicted\")\n",
        "  ax.set(ylabel=\"Actual\")"
      ],
      "execution_count": null,
      "outputs": []
    },
    {
      "cell_type": "code",
      "metadata": {
        "id": "ouZtx9RcBbPH"
      },
      "source": [
        "plot_corr_matrix(y_prediction, y_test) # plotting confusion matrix using actual and predicted values"
      ],
      "execution_count": null,
      "outputs": []
    },
    {
      "cell_type": "markdown",
      "metadata": {
        "id": "huOVFb8mgWUS"
      },
      "source": [
        "1D-ConvNet"
      ]
    },
    {
      "cell_type": "code",
      "metadata": {
        "id": "O4Ik3RbVn8Ry"
      },
      "source": [
        "# Reshaping dataset for 1D-ConvNet and LSTM Model\n",
        "x_train= x_train.reshape(x_train.shape[0], x_train.shape[1], 1)\n",
        "x_test= x_test.reshape(x_test.shape[0], x_test.shape[1], 1)"
      ],
      "execution_count": null,
      "outputs": []
    },
    {
      "cell_type": "code",
      "metadata": {
        "id": "F46qz_ERogdw"
      },
      "source": [
        "n_timesteps,n_features= 8, 1"
      ],
      "execution_count": null,
      "outputs": []
    },
    {
      "cell_type": "code",
      "metadata": {
        "id": "D2ocqdFdnv4R"
      },
      "source": [
        "model = Sequential()\n",
        "model.add(Conv1D(filters=64, kernel_size=5, activation='relu', input_shape=(n_timesteps,n_features)))\n",
        "model.add(Conv1D(filters=64, kernel_size=3, activation='relu'))\n",
        "model.add(Conv1D(filters=64, kernel_size=1, activation='relu'))\n",
        "model.add(MaxPooling1D(pool_size=2))\n",
        "model.add(Flatten())\n",
        "model.add(Dense(64, activation=\"relu\"))\n",
        "model.add(Dense(64, activation=\"relu\"))\n",
        "model.add(Dense(1, activation='sigmoid'))"
      ],
      "execution_count": null,
      "outputs": []
    },
    {
      "cell_type": "code",
      "metadata": {
        "id": "4XBiSUqJqsFE"
      },
      "source": [
        "model.compile(loss='binary_crossentropy',optimizer='adam', metrics=['accuracy'])"
      ],
      "execution_count": null,
      "outputs": []
    },
    {
      "cell_type": "code",
      "metadata": {
        "id": "gk8SejX-p4NA"
      },
      "source": [
        "model.fit(x_train, y_train, epochs=100, validation_data=(x_test, y_test))"
      ],
      "execution_count": null,
      "outputs": []
    },
    {
      "cell_type": "code",
      "metadata": {
        "id": "LpvbTJFpzEaa"
      },
      "source": [
        "yconv_prediction=np.round(model.predict(x_test))"
      ],
      "execution_count": null,
      "outputs": []
    },
    {
      "cell_type": "code",
      "metadata": {
        "id": "pSQzlppKiCmK"
      },
      "source": [
        "classification_report(yconv_prediction, y_test)"
      ],
      "execution_count": null,
      "outputs": []
    },
    {
      "cell_type": "code",
      "metadata": {
        "id": "d1KAv3RHfVed"
      },
      "source": [
        "plot_corr_matrix(yconv_prediction, y_test)"
      ],
      "execution_count": null,
      "outputs": []
    },
    {
      "cell_type": "markdown",
      "metadata": {
        "id": "WUmSRObogfy4"
      },
      "source": [
        "**LSTM**"
      ]
    },
    {
      "cell_type": "code",
      "metadata": {
        "id": "1gJYJ8qWqk4l"
      },
      "source": [
        "modellstm = tf.keras.models.Sequential([\n",
        "  tf.keras.layers.LSTM(100,return_sequences=True,input_shape=[8,1], activation='relu'),\n",
        "  #tf.keras.layers.LSTM(50, return_sequences=True, activation='relu'),\n",
        "  tf.keras.layers.LSTM(50, activation='relu'),\n",
        "  tf.keras.layers.Dense(1, activation='sigmoid')\n",
        "])"
      ],
      "execution_count": null,
      "outputs": []
    },
    {
      "cell_type": "code",
      "metadata": {
        "id": "DDC8KQDUCiZA"
      },
      "source": [
        "modellstm.compile(optimizer='adam', loss='binary_crossentropy', metrics=['accuracy'])"
      ],
      "execution_count": null,
      "outputs": []
    },
    {
      "cell_type": "code",
      "metadata": {
        "id": "N-tsxKhRCojP"
      },
      "source": [
        "history_lstm=modellstm.fit(x_train, y_train, validation_data=(x_test, y_test), epochs=100)"
      ],
      "execution_count": null,
      "outputs": []
    },
    {
      "cell_type": "code",
      "metadata": {
        "id": "wG4ABTf51kHr"
      },
      "source": [
        "ylstm_prediction=np.round(modellstm.predict(x_test))"
      ],
      "execution_count": null,
      "outputs": []
    },
    {
      "cell_type": "code",
      "metadata": {
        "id": "laK9dYYmi2JM"
      },
      "source": [
        "classification_report(ylstm_prediction, y_test)"
      ],
      "execution_count": null,
      "outputs": []
    },
    {
      "cell_type": "code",
      "metadata": {
        "id": "GDK6JiWph4Dv"
      },
      "source": [
        "plot_corr_matrix(ylstm_prediction, y_test)"
      ],
      "execution_count": null,
      "outputs": []
    },
    {
      "cell_type": "markdown",
      "metadata": {
        "id": "2tOFgmLaiJ9f"
      },
      "source": [
        "# Machine Learning Models"
      ]
    },
    {
      "cell_type": "markdown",
      "metadata": {
        "id": "OhybCjqUiT3U"
      },
      "source": [
        "**SVM**"
      ]
    },
    {
      "cell_type": "code",
      "metadata": {
        "id": "96o0Whr4eOnw"
      },
      "source": [
        "svm= SVC()"
      ],
      "execution_count": null,
      "outputs": []
    },
    {
      "cell_type": "code",
      "metadata": {
        "id": "hF4PV_8feR12"
      },
      "source": [
        "svm.fit(x_train, y_train)"
      ],
      "execution_count": null,
      "outputs": []
    },
    {
      "cell_type": "code",
      "metadata": {
        "id": "x36qqYVRioFB"
      },
      "source": [
        "accuracy_score(y_test, y_pred_svm)"
      ],
      "execution_count": null,
      "outputs": []
    },
    {
      "cell_type": "code",
      "metadata": {
        "id": "X1vTGjPMe4wb"
      },
      "source": [
        "y_pred_svm = svm.predict(x_test)"
      ],
      "execution_count": null,
      "outputs": []
    },
    {
      "cell_type": "code",
      "metadata": {
        "id": "I697W70uiylI"
      },
      "source": [
        "classification_report(y_pred_svm, y_test)"
      ],
      "execution_count": null,
      "outputs": []
    },
    {
      "cell_type": "code",
      "metadata": {
        "id": "IaxfJ1S_ig62"
      },
      "source": [
        "plot_corr_matrix(y_pred_svm, y_test)"
      ],
      "execution_count": null,
      "outputs": []
    },
    {
      "cell_type": "markdown",
      "metadata": {
        "id": "4_fho8IrjBZe"
      },
      "source": [
        "**KNN**"
      ]
    },
    {
      "cell_type": "code",
      "metadata": {
        "id": "HlJeYhR-7CLW"
      },
      "source": [
        "knn= KNeighborsClassifier()"
      ],
      "execution_count": null,
      "outputs": []
    },
    {
      "cell_type": "code",
      "metadata": {
        "id": "Wx4GU2yC7G37"
      },
      "source": [
        "knn.fit(x_train, y_train)"
      ],
      "execution_count": null,
      "outputs": []
    },
    {
      "cell_type": "code",
      "metadata": {
        "id": "3FPQdmYj7O7I"
      },
      "source": [
        "y_pred_knn = knn.predict(x_test)"
      ],
      "execution_count": null,
      "outputs": []
    },
    {
      "cell_type": "code",
      "metadata": {
        "id": "2pc3g_vGjJ6-"
      },
      "source": [
        "accuracy_score(y_test, y_pred_svm)"
      ],
      "execution_count": null,
      "outputs": []
    },
    {
      "cell_type": "code",
      "metadata": {
        "id": "6SkHNGr8jUk0"
      },
      "source": [
        "classification_report(y_pred_knn, y_test)"
      ],
      "execution_count": null,
      "outputs": []
    },
    {
      "cell_type": "code",
      "metadata": {
        "id": "5nVddR64jdYi"
      },
      "source": [
        "plot_corr_matrix(y_pred_knn, y_test)"
      ],
      "execution_count": null,
      "outputs": []
    },
    {
      "cell_type": "markdown",
      "metadata": {
        "id": "JMpCRJkhjiyP"
      },
      "source": [
        "**CART**"
      ]
    },
    {
      "cell_type": "code",
      "metadata": {
        "id": "_kd6c9No7hLS"
      },
      "source": [
        "tree= DecisionTreeClassifier()"
      ],
      "execution_count": null,
      "outputs": []
    },
    {
      "cell_type": "code",
      "metadata": {
        "id": "lJIYXNAz7ksg"
      },
      "source": [
        "tree.fit(x_train, y_train)"
      ],
      "execution_count": null,
      "outputs": []
    },
    {
      "cell_type": "code",
      "metadata": {
        "id": "VAfSztX07nmO"
      },
      "source": [
        "y_pred_tree= tree.predict(x_test)"
      ],
      "execution_count": null,
      "outputs": []
    },
    {
      "cell_type": "code",
      "metadata": {
        "id": "tcI_r-e0jpYq"
      },
      "source": [
        "accuracy_score(y_pred_tree, y_test)"
      ],
      "execution_count": null,
      "outputs": []
    },
    {
      "cell_type": "code",
      "metadata": {
        "id": "MA5FXsxrjzST"
      },
      "source": [
        "plot_corr_matrix(y_pred_tree, y_test)"
      ],
      "execution_count": null,
      "outputs": []
    },
    {
      "cell_type": "markdown",
      "metadata": {
        "id": "TvFv-CQdkRuf"
      },
      "source": [
        "# Feature Correlation and Feature Importance"
      ]
    },
    {
      "cell_type": "code",
      "metadata": {
        "colab": {
          "base_uri": "https://localhost:8080/"
        },
        "id": "AIqx0dQ7kZ6s",
        "outputId": "87566929-beac-4283-97f9-e73d3680c9c0"
      },
      "source": [
        "dataset.columns"
      ],
      "execution_count": 141,
      "outputs": [
        {
          "output_type": "execute_result",
          "data": {
            "text/plain": [
              "Index(['AWND', 'PRCP', 'SNOW', 'SNWD', 'TAVG', 'TMAX', 'TMIN', 'WDF2', 'WDF5',\n",
              "       'WSF2', 'WSF5'],\n",
              "      dtype='object')"
            ]
          },
          "metadata": {
            "tags": []
          },
          "execution_count": 141
        }
      ]
    },
    {
      "cell_type": "code",
      "metadata": {
        "id": "FOTt93ZckrOn"
      },
      "source": [
        "dataset= dataset[['TAVG', 'TMAX', 'TMIN', 'AWND', 'WDF2', 'WDF5','WSF2', 'WSF5', 'PRCP']]"
      ],
      "execution_count": 144,
      "outputs": []
    },
    {
      "cell_type": "code",
      "metadata": {
        "id": "d18kousdkqXk"
      },
      "source": [
        "# This cell for plotting the Correlation Matrix\n",
        "plt.figure(figsize=(8, 6))\n",
        "# define the mask to set the values in the upper triangle to True\n",
        "mask = np.triu(np.ones_like(dataset.corr(), dtype=np.bool))\n",
        "heatmap = sn.heatmap(dataset.corr(), mask=mask, vmin=0, vmax=1, annot=True, cmap='Blues')"
      ],
      "execution_count": null,
      "outputs": []
    },
    {
      "cell_type": "code",
      "metadata": {
        "colab": {
          "base_uri": "https://localhost:8080/"
        },
        "id": "ZyaPxb_ZlJIC",
        "outputId": "7782a385-e91e-4b60-d49d-4065ed731602"
      },
      "source": [
        "# Finding the most important features using LASSO regression method\n",
        "reg = LassoCV()\n",
        "reg.fit(features, label)\n",
        "print(\"Best alpha using built-in LassoCV: %f\" % reg.alpha_)\n",
        "print(\"Best score using built-in LassoCV: %f\" %reg.score(features,label))\n",
        "coef = pd.Series(reg.coef_, index = features.columns)"
      ],
      "execution_count": 154,
      "outputs": [
        {
          "output_type": "stream",
          "text": [
            "Best alpha using built-in LassoCV: 0.003762\n",
            "Best score using built-in LassoCV: 0.181906\n"
          ],
          "name": "stdout"
        },
        {
          "output_type": "stream",
          "text": [
            "/usr/local/lib/python3.7/dist-packages/sklearn/linear_model/_coordinate_descent.py:1088: DataConversionWarning: A column-vector y was passed when a 1d array was expected. Please change the shape of y to (n_samples, ), for example using ravel().\n",
            "  y = column_or_1d(y, warn=True)\n"
          ],
          "name": "stderr"
        }
      ]
    },
    {
      "cell_type": "code",
      "metadata": {
        "id": "L6J0zTQRlzIA"
      },
      "source": [
        "print(\"Lasso picked \" + str(sum(coef != 0)) + \" variables and eliminated the other \" +  str(sum(coef == 0)) + \" variables\")"
      ],
      "execution_count": null,
      "outputs": []
    },
    {
      "cell_type": "code",
      "metadata": {
        "id": "jF_Y4pwYmJCG"
      },
      "source": [
        "# Plotting the important features\n",
        "imp_coef = coef.sort_values()\n",
        "import matplotlib\n",
        "matplotlib.rcParams['figure.figsize'] = (7.5, 5.0)\n",
        "imp_coef.plot(kind = \"bar\")"
      ],
      "execution_count": null,
      "outputs": []
    },
    {
      "cell_type": "code",
      "metadata": {
        "id": "UHwGRWJ4mMO-"
      },
      "source": [
        ""
      ],
      "execution_count": null,
      "outputs": []
    }
  ]
}